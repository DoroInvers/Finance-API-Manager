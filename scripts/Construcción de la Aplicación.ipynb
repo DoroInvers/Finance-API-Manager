{
 "cells": [
  {
   "cell_type": "code",
   "execution_count": 1,
   "id": "57121335",
   "metadata": {},
   "outputs": [],
   "source": [
    "numeros = [1,2,3,4,5]"
   ]
  },
  {
   "cell_type": "code",
   "execution_count": 4,
   "id": "64e8fe8c",
   "metadata": {},
   "outputs": [],
   "source": [
    "suma = 0\n",
    "for s in numeros:\n",
    "    suma = suma + s"
   ]
  },
  {
   "cell_type": "code",
   "execution_count": 5,
   "id": "c5b6484e",
   "metadata": {},
   "outputs": [
    {
     "data": {
      "text/plain": [
       "15"
      ]
     },
     "execution_count": 5,
     "metadata": {},
     "output_type": "execute_result"
    }
   ],
   "source": [
    "suma"
   ]
  },
  {
   "cell_type": "code",
   "execution_count": 6,
   "id": "af43af97",
   "metadata": {},
   "outputs": [
    {
     "data": {
      "text/plain": [
       "15"
      ]
     },
     "execution_count": 6,
     "metadata": {},
     "output_type": "execute_result"
    }
   ],
   "source": [
    "sum(numeros)"
   ]
  },
  {
   "cell_type": "code",
   "execution_count": 12,
   "id": "6303aea0",
   "metadata": {},
   "outputs": [],
   "source": [
    "def compound(monto,tasa,tiempo):\n",
    "    y=monto*(1+tasa/100)**tiempo\n",
    "    return y"
   ]
  },
  {
   "cell_type": "code",
   "execution_count": 9,
   "id": "85dcab8f",
   "metadata": {},
   "outputs": [
    {
     "data": {
      "text/plain": [
       "1268.2417945625455"
      ]
     },
     "execution_count": 9,
     "metadata": {},
     "output_type": "execute_result"
    }
   ],
   "source": [
    "compound(1000,2,12)"
   ]
  },
  {
   "cell_type": "code",
   "execution_count": 14,
   "id": "a0edbe07",
   "metadata": {},
   "outputs": [],
   "source": [
    "tiempo = range(61)"
   ]
  },
  {
   "cell_type": "code",
   "execution_count": 15,
   "id": "2d1e8f9f",
   "metadata": {},
   "outputs": [
    {
     "name": "stdout",
     "output_type": "stream",
     "text": [
      "1000.0\n",
      "1020.0\n",
      "1040.4\n",
      "1061.208\n",
      "1082.43216\n",
      "1104.0808032\n",
      "1126.1624192640002\n",
      "1148.68566764928\n",
      "1171.6593810022657\n",
      "1195.092568622311\n",
      "1218.9944199947574\n",
      "1243.3743083946524\n",
      "1268.2417945625455\n",
      "1293.6066304537965\n",
      "1319.4787630628723\n",
      "1345.8683383241298\n",
      "1372.7857050906125\n",
      "1400.241419192425\n",
      "1428.2462475762734\n",
      "1456.8111725277988\n",
      "1485.947395978355\n",
      "1515.666343897922\n",
      "1545.9796707758803\n",
      "1576.899264191398\n",
      "1608.437249475226\n",
      "1640.6059944647307\n",
      "1673.4181143540252\n",
      "1706.886476641106\n",
      "1741.024206173928\n",
      "1775.8446902974065\n",
      "1811.3615841033547\n",
      "1847.588815785422\n",
      "1884.5405921011302\n",
      "1922.231403943153\n",
      "1960.676032022016\n",
      "1999.8895526624565\n",
      "2039.8873437157054\n",
      "2080.6850905900196\n",
      "2122.29879240182\n",
      "2164.7447682498564\n",
      "2208.0396636148535\n",
      "2252.200456887151\n",
      "2297.244466024894\n",
      "2343.189355345392\n",
      "2390.0531424522997\n",
      "2437.8542053013457\n",
      "2486.6112894073726\n",
      "2536.34351519552\n",
      "2587.070385499431\n",
      "2638.8117932094196\n",
      "2691.5880290736077\n",
      "2745.41978965508\n",
      "2800.3281854481816\n",
      "2856.3347491571453\n",
      "2913.461444140288\n",
      "2971.730673023094\n",
      "3031.165286483556\n",
      "3091.7885922132273\n",
      "3153.624364057492\n",
      "3216.6968513386414\n",
      "3281.0307883654145\n"
     ]
    }
   ],
   "source": [
    "for t in tiempo:\n",
    "    print(compound(1000,2,t))"
   ]
  },
  {
   "cell_type": "markdown",
   "id": "50e16cc0",
   "metadata": {},
   "source": [
    "#me quedé en el minuto 27 de https://www.youtube.com/watch?v=miB7C9GfI-k"
   ]
  },
  {
   "cell_type": "code",
   "execution_count": null,
   "id": "1331fe4f",
   "metadata": {},
   "outputs": [],
   "source": []
  }
 ],
 "metadata": {
  "kernelspec": {
   "display_name": "Python 3 (ipykernel)",
   "language": "python",
   "name": "python3"
  },
  "language_info": {
   "codemirror_mode": {
    "name": "ipython",
    "version": 3
   },
   "file_extension": ".py",
   "mimetype": "text/x-python",
   "name": "python",
   "nbconvert_exporter": "python",
   "pygments_lexer": "ipython3",
   "version": "3.11.5"
  }
 },
 "nbformat": 4,
 "nbformat_minor": 5
}
